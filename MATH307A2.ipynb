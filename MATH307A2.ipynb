{
 "cells": [
  {
   "cell_type": "code",
   "execution_count": 1,
   "metadata": {
    "collapsed": true
   },
   "outputs": [],
   "source": [
    "%%capture\n",
    "from MATH307tools import*"
   ]
  },
  {
   "cell_type": "code",
   "execution_count": 3,
   "outputs": [
    {
     "data": {
      "text/plain": "<IPython.core.display.Latex object>",
      "text/latex": "$$ A = \\left[\\begin{matrix}1 & 1 & 1 & 1 & 1\\\\1 & 2 & 2 & 2 & 2\\\\1 & 2 & 3 & 3 & 3\\\\1 & 2 & 3 & 4 & 4\\\\1 & 2 & 3 & 4 & -5\\end{matrix}\\right]$$"
     },
     "execution_count": 3,
     "metadata": {},
     "output_type": "execute_result"
    }
   ],
   "source": [
    "A = Matrix([[1,1,1,1,1],\n",
    "           [1,2,2,2,2],\n",
    "           [1,2,3,3,3],\n",
    "           [1,2,3,4,4],\n",
    "           [1,2,3,4,-5]])\n",
    "Latex(f\"$$ A = {sympy2tex(A)}$$\")"
   ],
   "metadata": {
    "collapsed": false
   }
  },
  {
   "cell_type": "code",
   "execution_count": 57,
   "outputs": [
    {
     "data": {
      "text/plain": "<IPython.core.display.Latex object>",
      "text/latex": "$$ x_0 = \\left[\\begin{matrix}\\frac{1}{5}\\\\\\frac{1}{5}\\\\\\frac{1}{5}\\\\\\frac{1}{5}\\\\\\frac{1}{5}\\end{matrix}\\right]$$"
     },
     "execution_count": 57,
     "metadata": {},
     "output_type": "execute_result"
    }
   ],
   "source": [
    "x_0 = Matrix([1,1,1,1,1])/5\n",
    "Latex(f\"$$ x_0 = {sympy2tex(x_0)}$$\")"
   ],
   "metadata": {
    "collapsed": false
   }
  },
  {
   "cell_type": "code",
   "execution_count": 59,
   "outputs": [
    {
     "data": {
      "text/plain": "<IPython.core.display.Latex object>",
      "text/latex": "$$ \\mu_k = 10.24$$"
     },
     "execution_count": 59,
     "metadata": {},
     "output_type": "execute_result"
    }
   ],
   "source": [
    "def power_method(A, x_0, err_thres=0.001):\n",
    "    old_m_k = 1e10\n",
    "    err = 1e10\n",
    "    x_k = x_0\n",
    "    m_k = 0\n",
    "    k = 0\n",
    "    outputs = [(m_k, x_k)]\n",
    "    while err > err_thres:\n",
    "        k += 1\n",
    "        ax_k = A*x_k\n",
    "        m_k = max(abs(ax_k))\n",
    "        x_k = ax_k/m_k\n",
    "        outputs.append((m_k, x_k))\n",
    "        err = abs(float(m_k - old_m_k))\n",
    "        old_m_k = m_k\n",
    "    return outputs\n",
    "out = power_method(A, x_0)\n",
    "mu_k = round(float(out[-1][0]), 3)\n",
    "Latex(f\"$$ \\mu_k = {sympy2tex(mu_k)}$$\")"
   ],
   "metadata": {
    "collapsed": false
   }
  },
  {
   "cell_type": "code",
   "execution_count": 60,
   "outputs": [
    {
     "data": {
      "text/plain": "<IPython.core.display.Latex object>",
      "text/latex": "$$ v_k = \\left[\\begin{matrix}0.206\\\\0.391\\\\0.539\\\\0.633\\\\0.337\\end{matrix}\\right]$$"
     },
     "execution_count": 60,
     "metadata": {},
     "output_type": "execute_result"
    }
   ],
   "source": [
    "v_k = np.array(out[-1][1]).astype(np.float_)\n",
    "v_k = Matrix(np.round(normalize(v_k), 3))\n",
    "Latex(f\"$$ v_k = {sympy2tex(v_k)}$$\")"
   ],
   "metadata": {
    "collapsed": false
   }
  }
 ],
 "metadata": {
  "kernelspec": {
   "display_name": "Python 3",
   "language": "python",
   "name": "python3"
  },
  "language_info": {
   "codemirror_mode": {
    "name": "ipython",
    "version": 2
   },
   "file_extension": ".py",
   "mimetype": "text/x-python",
   "name": "python",
   "nbconvert_exporter": "python",
   "pygments_lexer": "ipython2",
   "version": "2.7.6"
  }
 },
 "nbformat": 4,
 "nbformat_minor": 0
}
