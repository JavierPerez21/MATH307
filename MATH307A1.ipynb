{
 "cells": [
  {
   "cell_type": "code",
   "execution_count": 3,
   "metadata": {},
   "outputs": [],
   "source": [
    "%%capture\n",
    "from MATH307tools import*"
   ]
  },
  {
   "cell_type": "code",
   "execution_count": 11,
   "metadata": {},
   "outputs": [
    {
     "data": {
      "text/plain": "<IPython.core.display.Latex object>",
      "text/latex": "$$ A = \\left[\\begin{matrix}1 & 2 & 3 & 4 & 5\\\\2 & 3 & 4 & 5 & 1\\\\3 & 4 & 5 & 1 & 2\\\\4 & 5 & 1 & 2 & 3\\\\5 & 1 & 2 & 3 & 4\\end{matrix}\\right]$$"
     },
     "execution_count": 11,
     "metadata": {},
     "output_type": "execute_result"
    }
   ],
   "source": [
    "nums = [1, 2, 3, 4, 5]\n",
    "A = Matrix([nums[i:]+nums[:i] for i in range(0, 5)])\n",
    "Latex(f\"$$ A = {sympy2tex(A)}$$\")"
   ]
  },
  {
   "cell_type": "code",
   "execution_count": 12,
   "metadata": {},
   "outputs": [
    {
     "data": {
      "text/plain": "<IPython.core.display.Latex object>",
      "text/latex": "$$ b = \\left[\\begin{matrix}1\\\\-1\\\\2\\\\-2\\\\3\\end{matrix}\\right]$$"
     },
     "execution_count": 12,
     "metadata": {},
     "output_type": "execute_result"
    }
   ],
   "source": [
    "b = Matrix([[1], [-1], [2], [-2], [3]])\n",
    "Latex(f\"$$ b = {sympy2tex(b)}$$\")"
   ]
  },
  {
   "cell_type": "markdown",
   "metadata": {},
   "source": [
    "# Question 1"
   ]
  },
  {
   "cell_type": "code",
   "execution_count": 13,
   "metadata": {},
   "outputs": [
    {
     "data": {
      "text/plain": "<IPython.core.display.Latex object>",
      "text/latex": "$$ x = \\left[\\begin{matrix}\\frac{11}{25}\\\\- \\frac{24}{25}\\\\\\frac{21}{25}\\\\- \\frac{14}{25}\\\\\\frac{11}{25}\\end{matrix}\\right]$$"
     },
     "execution_count": 13,
     "metadata": {},
     "output_type": "execute_result"
    }
   ],
   "source": [
    "# Question 1\n",
    "x = A.inv()*b\n",
    "assert A*x == b\n",
    "Latex(f\"$$ x = {sympy2tex(x)}$$\")"
   ]
  },
  {
   "cell_type": "markdown",
   "source": [
    "# Question 2"
   ],
   "metadata": {
    "collapsed": false
   }
  },
  {
   "cell_type": "code",
   "execution_count": 15,
   "outputs": [
    {
     "data": {
      "text/plain": "<IPython.core.display.Latex object>",
      "text/latex": "$$ A^{-1} = \\left[\\begin{matrix}\\frac{11}{25}\\\\- \\frac{24}{25}\\\\\\frac{21}{25}\\\\- \\frac{14}{25}\\\\\\frac{11}{25}\\end{matrix}\\right]$$"
     },
     "execution_count": 15,
     "metadata": {},
     "output_type": "execute_result"
    }
   ],
   "source": [
    "Ainv = A.inv()\n",
    "Latex(f\"$$ A^{'{-1}'} = {sympy2tex(x)}$$\")"
   ],
   "metadata": {
    "collapsed": false
   }
  },
  {
   "cell_type": "markdown",
   "source": [
    "# Question 3"
   ],
   "metadata": {
    "collapsed": false
   }
  },
  {
   "cell_type": "code",
   "execution_count": 18,
   "outputs": [
    {
     "data": {
      "text/plain": "<IPython.core.display.Latex object>",
      "text/latex": "$$ |A| = 1875$$"
     },
     "execution_count": 18,
     "metadata": {},
     "output_type": "execute_result"
    }
   ],
   "source": [
    "detA = A.det()\n",
    "Latex(f\"$$ |A| = {sympy2tex(detA)}$$\")"
   ],
   "metadata": {
    "collapsed": false
   }
  },
  {
   "cell_type": "markdown",
   "source": [
    "# Question 4"
   ],
   "metadata": {
    "collapsed": false
   }
  },
  {
   "cell_type": "code",
   "execution_count": 19,
   "outputs": [
    {
     "data": {
      "text/plain": "<IPython.core.display.Latex object>",
      "text/latex": "$$ y = \\left[\\begin{matrix}\\frac{11}{25}\\\\- \\frac{24}{25}\\\\\\frac{21}{25}\\\\- \\frac{14}{25}\\\\\\frac{11}{25}\\end{matrix}\\right]$$"
     },
     "execution_count": 19,
     "metadata": {},
     "output_type": "execute_result"
    }
   ],
   "source": [
    "y = Ainv * b\n",
    "Latex(f\"$$ y = {sympy2tex(y)}$$\")"
   ],
   "metadata": {
    "collapsed": false
   }
  },
  {
   "cell_type": "markdown",
   "source": [
    "# Question 5"
   ],
   "metadata": {
    "collapsed": false
   }
  },
  {
   "cell_type": "code",
   "execution_count": 20,
   "outputs": [
    {
     "data": {
      "text/plain": "<IPython.core.display.Latex object>",
      "text/latex": "$$ B = \\left[\\begin{matrix}1 & 2\\\\2 & 3\\\\3 & 4\\\\4 & 5\\\\5 & 1\\end{matrix}\\right]$$"
     },
     "execution_count": 20,
     "metadata": {},
     "output_type": "execute_result"
    }
   ],
   "source": [
    "B = A[:, :2]\n",
    "Latex(f\"$$ B = {sympy2tex(B)}$$\")"
   ],
   "metadata": {
    "collapsed": false
   }
  },
  {
   "cell_type": "markdown",
   "source": [
    "# Question 6"
   ],
   "metadata": {
    "collapsed": false
   }
  },
  {
   "cell_type": "code",
   "execution_count": 21,
   "outputs": [
    {
     "data": {
      "text/plain": "<IPython.core.display.Latex object>",
      "text/latex": "$$ B^T = \\left[\\begin{matrix}1 & 2 & 3 & 4 & 5\\\\2 & 3 & 4 & 5 & 1\\end{matrix}\\right]$$"
     },
     "execution_count": 21,
     "metadata": {},
     "output_type": "execute_result"
    }
   ],
   "source": [
    "BT = B.T\n",
    "Latex(f\"$$ B^T = {sympy2tex(BT)}$$\")"
   ],
   "metadata": {
    "collapsed": false
   }
  },
  {
   "cell_type": "markdown",
   "source": [
    "# Question 7"
   ],
   "metadata": {
    "collapsed": false
   }
  },
  {
   "cell_type": "code",
   "execution_count": 22,
   "outputs": [
    {
     "data": {
      "text/plain": "<IPython.core.display.Latex object>",
      "text/latex": "$$ m = \\left[\\begin{matrix}55 & 45\\\\45 & 55\\end{matrix}\\right]$$"
     },
     "execution_count": 22,
     "metadata": {},
     "output_type": "execute_result"
    }
   ],
   "source": [
    "m = BT * B\n",
    "Latex(f\"$$ m = {sympy2tex(m)}$$\")"
   ],
   "metadata": {
    "collapsed": false
   }
  },
  {
   "cell_type": "markdown",
   "source": [
    "# Question 8"
   ],
   "metadata": {
    "collapsed": false
   }
  },
  {
   "cell_type": "code",
   "execution_count": 26,
   "outputs": [
    {
     "data": {
      "text/plain": "<IPython.core.display.Latex object>",
      "text/latex": "$$ M = \\left[\\begin{matrix}5 & 8 & 11 & 14 & 7\\\\8 & 13 & 18 & 23 & 13\\\\11 & 18 & 25 & 32 & 19\\\\14 & 23 & 32 & 41 & 25\\\\7 & 13 & 19 & 25 & 26\\end{matrix}\\right]$$"
     },
     "execution_count": 26,
     "metadata": {},
     "output_type": "execute_result"
    }
   ],
   "source": [
    "M = B * BT\n",
    "Latex(f\"$$ M = {sympy2tex(M)}$$\")"
   ],
   "metadata": {
    "collapsed": false
   }
  },
  {
   "cell_type": "markdown",
   "source": [
    "# Question 9"
   ],
   "metadata": {
    "collapsed": false
   }
  },
  {
   "cell_type": "code",
   "execution_count": 42,
   "outputs": [],
   "source": [
    "def _hstack(matrices):\n",
    "    A = Matrix.hstack(matrices[0], matrices[1])\n",
    "    if len(matrices) > 2:\n",
    "      for i in range(2, len(matrices)):\n",
    "        A = Matrix.hstack(A, matrices[i])\n",
    "    return A\n",
    "\n",
    "def display_eigenvects(eigenvects, norm=False, fp=False, dec=4):\n",
    "    if not norm:\n",
    "        if not fp:\n",
    "           return _hstack([eigenvects[e][2][0] for e in range(0, len(eigenvects)) for i in range(0, eigenvects[e][1])])\n",
    "        if fp:\n",
    "            m = np.array(_hstack([eigenvects[e][2][0] for e in range(0, len(eigenvects)) for i in range(0, eigenvects[e][1])]))\n",
    "            m = round(m*1e4)/1e4\n",
    "            return Matrix(m)\n",
    "    if norm:\n",
    "        if not fp:\n",
    "            return _hstack([normalize(eigenvects[e][2][0]) for e in range(0, len(eigenvects)) for i in range(0, eigenvects[e][1])])\n",
    "        if fp:\n",
    "            m = np.array(_hstack([normalize(eigenvects[e][2][0]) for e in range(0, len(eigenvects)) for i in range(0, eigenvects[e][1])])).astype(np.float_)\n",
    "            m = np.round(m*1e4)/1e4\n",
    "            return Matrix(m)\n",
    "\n",
    "\n",
    "def display_eigenvals(eigenvals):\n",
    "    return Matrix([v for v, n in eigenvals.items() for i in range(n)])"
   ],
   "metadata": {
    "collapsed": false
   }
  },
  {
   "cell_type": "code",
   "execution_count": 35,
   "outputs": [
    {
     "data": {
      "text/plain": "<IPython.core.display.Latex object>",
      "text/latex": "$$ \\lambda_A = \\left[\\begin{matrix}15\\\\- \\sqrt{\\frac{25}{2} - \\frac{5 \\sqrt{5}}{2}}\\\\- \\sqrt{\\frac{5 \\sqrt{5}}{2} + \\frac{25}{2}}\\\\\\sqrt{\\frac{25}{2} - \\frac{5 \\sqrt{5}}{2}}\\\\\\sqrt{\\frac{5 \\sqrt{5}}{2} + \\frac{25}{2}}\\end{matrix}\\right]$$"
     },
     "execution_count": 35,
     "metadata": {},
     "output_type": "execute_result"
    }
   ],
   "source": [
    "lamA = A.eigenvals()\n",
    "Latex(f\"$$ \\lambda_A = {sympy2tex(display_eigenvals(lamA))}$$\")"
   ],
   "metadata": {
    "collapsed": false
   }
  },
  {
   "cell_type": "markdown",
   "source": [
    "# Question 10"
   ],
   "metadata": {
    "collapsed": false
   }
  },
  {
   "cell_type": "code",
   "execution_count": 36,
   "outputs": [
    {
     "data": {
      "text/plain": "<IPython.core.display.Latex object>",
      "text/latex": "$$ v_A = \\left[\\begin{matrix}1 & - \\frac{3}{2} - \\frac{\\left(\\frac{25}{2} - \\frac{5 \\sqrt{5}}{2}\\right)^{\\frac{3}{2}}}{25} + \\frac{\\sqrt{5}}{2} & - \\frac{3}{2} + \\frac{\\left(\\frac{25}{2} - \\frac{5 \\sqrt{5}}{2}\\right)^{\\frac{3}{2}}}{25} + \\frac{\\sqrt{5}}{2} & - \\frac{\\left(\\frac{5 \\sqrt{5}}{2} + \\frac{25}{2}\\right)^{\\frac{3}{2}}}{25} - \\frac{3}{2} - \\frac{\\sqrt{5}}{2} & - \\frac{3}{2} - \\frac{\\sqrt{5}}{2} + \\frac{\\left(\\frac{5 \\sqrt{5}}{2} + \\frac{25}{2}\\right)^{\\frac{3}{2}}}{25}\\\\1 & - \\frac{3}{2} - \\frac{2 \\left(\\frac{25}{2} - \\frac{5 \\sqrt{5}}{2}\\right)^{\\frac{3}{2}}}{25} + \\frac{\\sqrt{5}}{2} + \\sqrt{\\frac{25}{2} - \\frac{5 \\sqrt{5}}{2}} & - \\sqrt{\\frac{25}{2} - \\frac{5 \\sqrt{5}}{2}} - \\frac{3}{2} + \\frac{\\sqrt{5}}{2} + \\frac{2 \\left(\\frac{25}{2} - \\frac{5 \\sqrt{5}}{2}\\right)^{\\frac{3}{2}}}{25} & - \\frac{2 \\left(\\frac{5 \\sqrt{5}}{2} + \\frac{25}{2}\\right)^{\\frac{3}{2}}}{25} - \\frac{3}{2} - \\frac{\\sqrt{5}}{2} + \\sqrt{\\frac{5 \\sqrt{5}}{2} + \\frac{25}{2}} & - \\sqrt{\\frac{5 \\sqrt{5}}{2} + \\frac{25}{2}} - \\frac{3}{2} - \\frac{\\sqrt{5}}{2} + \\frac{2 \\left(\\frac{5 \\sqrt{5}}{2} + \\frac{25}{2}\\right)^{\\frac{3}{2}}}{25}\\\\1 & - \\sqrt{\\frac{25}{2} - \\frac{5 \\sqrt{5}}{2}} + 1 + \\frac{2 \\left(\\frac{25}{2} - \\frac{5 \\sqrt{5}}{2}\\right)^{\\frac{3}{2}}}{25} & - \\frac{2 \\left(\\frac{25}{2} - \\frac{5 \\sqrt{5}}{2}\\right)^{\\frac{3}{2}}}{25} + 1 + \\sqrt{\\frac{25}{2} - \\frac{5 \\sqrt{5}}{2}} & - \\sqrt{\\frac{5 \\sqrt{5}}{2} + \\frac{25}{2}} + 1 + \\frac{2 \\left(\\frac{5 \\sqrt{5}}{2} + \\frac{25}{2}\\right)^{\\frac{3}{2}}}{25} & - \\frac{2 \\left(\\frac{5 \\sqrt{5}}{2} + \\frac{25}{2}\\right)^{\\frac{3}{2}}}{25} + 1 + \\sqrt{\\frac{5 \\sqrt{5}}{2} + \\frac{25}{2}}\\\\1 & - \\sqrt{5} + \\frac{\\left(\\frac{25}{2} - \\frac{5 \\sqrt{5}}{2}\\right)^{\\frac{3}{2}}}{25} + 1 & - \\sqrt{5} - \\frac{\\left(\\frac{25}{2} - \\frac{5 \\sqrt{5}}{2}\\right)^{\\frac{3}{2}}}{25} + 1 & 1 + \\sqrt{5} + \\frac{\\left(\\frac{5 \\sqrt{5}}{2} + \\frac{25}{2}\\right)^{\\frac{3}{2}}}{25} & - \\frac{\\left(\\frac{5 \\sqrt{5}}{2} + \\frac{25}{2}\\right)^{\\frac{3}{2}}}{25} + 1 + \\sqrt{5}\\\\1 & 1 & 1 & 1 & 1\\end{matrix}\\right]$$"
     },
     "execution_count": 36,
     "metadata": {},
     "output_type": "execute_result"
    }
   ],
   "source": [
    "vecA = A.eigenvects()\n",
    "Latex(f\"$$ v_A = {sympy2tex(display_eigenvects(vecA))}$$\")"
   ],
   "metadata": {
    "collapsed": false
   }
  },
  {
   "cell_type": "code",
   "execution_count": 47,
   "outputs": [
    {
     "data": {
      "text/plain": "<IPython.core.display.Latex object>",
      "text/latex": "$$ v_A = \\left[\\begin{matrix}1 & - \\frac{3}{2} - \\frac{\\left(\\frac{25}{2} - \\frac{5 \\sqrt{5}}{2}\\right)^{\\frac{3}{2}}}{25} + \\frac{\\sqrt{5}}{2} & - \\frac{3}{2} + \\frac{\\left(\\frac{25}{2} - \\frac{5 \\sqrt{5}}{2}\\right)^{\\frac{3}{2}}}{25} + \\frac{\\sqrt{5}}{2} & - \\frac{\\left(\\frac{5 \\sqrt{5}}{2} + \\frac{25}{2}\\right)^{\\frac{3}{2}}}{25} - \\frac{3}{2} - \\frac{\\sqrt{5}}{2} & - \\frac{3}{2} - \\frac{\\sqrt{5}}{2} + \\frac{\\left(\\frac{5 \\sqrt{5}}{2} + \\frac{25}{2}\\right)^{\\frac{3}{2}}}{25}\\\\1 & - \\frac{3}{2} - \\frac{2 \\left(\\frac{25}{2} - \\frac{5 \\sqrt{5}}{2}\\right)^{\\frac{3}{2}}}{25} + \\frac{\\sqrt{5}}{2} + \\sqrt{\\frac{25}{2} - \\frac{5 \\sqrt{5}}{2}} & - \\sqrt{\\frac{25}{2} - \\frac{5 \\sqrt{5}}{2}} - \\frac{3}{2} + \\frac{\\sqrt{5}}{2} + \\frac{2 \\left(\\frac{25}{2} - \\frac{5 \\sqrt{5}}{2}\\right)^{\\frac{3}{2}}}{25} & - \\frac{2 \\left(\\frac{5 \\sqrt{5}}{2} + \\frac{25}{2}\\right)^{\\frac{3}{2}}}{25} - \\frac{3}{2} - \\frac{\\sqrt{5}}{2} + \\sqrt{\\frac{5 \\sqrt{5}}{2} + \\frac{25}{2}} & - \\sqrt{\\frac{5 \\sqrt{5}}{2} + \\frac{25}{2}} - \\frac{3}{2} - \\frac{\\sqrt{5}}{2} + \\frac{2 \\left(\\frac{5 \\sqrt{5}}{2} + \\frac{25}{2}\\right)^{\\frac{3}{2}}}{25}\\\\1 & - \\sqrt{\\frac{25}{2} - \\frac{5 \\sqrt{5}}{2}} + 1 + \\frac{2 \\left(\\frac{25}{2} - \\frac{5 \\sqrt{5}}{2}\\right)^{\\frac{3}{2}}}{25} & - \\frac{2 \\left(\\frac{25}{2} - \\frac{5 \\sqrt{5}}{2}\\right)^{\\frac{3}{2}}}{25} + 1 + \\sqrt{\\frac{25}{2} - \\frac{5 \\sqrt{5}}{2}} & - \\sqrt{\\frac{5 \\sqrt{5}}{2} + \\frac{25}{2}} + 1 + \\frac{2 \\left(\\frac{5 \\sqrt{5}}{2} + \\frac{25}{2}\\right)^{\\frac{3}{2}}}{25} & - \\frac{2 \\left(\\frac{5 \\sqrt{5}}{2} + \\frac{25}{2}\\right)^{\\frac{3}{2}}}{25} + 1 + \\sqrt{\\frac{5 \\sqrt{5}}{2} + \\frac{25}{2}}\\\\1 & - \\sqrt{5} + \\frac{\\left(\\frac{25}{2} - \\frac{5 \\sqrt{5}}{2}\\right)^{\\frac{3}{2}}}{25} + 1 & - \\sqrt{5} - \\frac{\\left(\\frac{25}{2} - \\frac{5 \\sqrt{5}}{2}\\right)^{\\frac{3}{2}}}{25} + 1 & 1 + \\sqrt{5} + \\frac{\\left(\\frac{5 \\sqrt{5}}{2} + \\frac{25}{2}\\right)^{\\frac{3}{2}}}{25} & - \\frac{\\left(\\frac{5 \\sqrt{5}}{2} + \\frac{25}{2}\\right)^{\\frac{3}{2}}}{25} + 1 + \\sqrt{5}\\\\1 & 1 & 1 & 1 & 1\\end{matrix}\\right]$$"
     },
     "execution_count": 47,
     "metadata": {},
     "output_type": "execute_result"
    }
   ],
   "source": [
    "Latex(f\"$$ v_A = {sympy2tex(display_eigenvects(vecA))}$$\")"
   ],
   "metadata": {
    "collapsed": false
   }
  },
  {
   "cell_type": "code",
   "execution_count": 43,
   "outputs": [
    {
     "data": {
      "text/plain": "<IPython.core.display.Latex object>",
      "text/latex": "$$ v_A = \\left[\\begin{matrix}0.4472 & -0.6247 & 0.0989 & -0.5635 & 0.2871\\\\0.4472 & 0.4472 & -0.4472 & -0.4472 & -0.4472\\\\0.4472 & -0.0989 & 0.6247 & 0.2871 & -0.5635\\\\0.4472 & -0.2871 & -0.5635 & 0.6247 & 0.0989\\\\0.4472 & 0.5635 & 0.2871 & 0.0989 & 0.6247\\end{matrix}\\right]$$"
     },
     "execution_count": 43,
     "metadata": {},
     "output_type": "execute_result"
    }
   ],
   "source": [
    "# This is does not look very nice, we can look at the decimal expressions of the normalized eigenvalues\n",
    "Latex(f\"$$ v_A = {sympy2tex(display_eigenvects(vecA, norm=True, fp=True))}$$\")"
   ],
   "metadata": {
    "collapsed": false
   }
  },
  {
   "cell_type": "markdown",
   "source": [
    "# Question 11"
   ],
   "metadata": {
    "collapsed": false
   }
  },
  {
   "cell_type": "code",
   "execution_count": 44,
   "outputs": [
    {
     "data": {
      "text/plain": "<IPython.core.display.Latex object>",
      "text/latex": "$$ \\lambda_m = \\left[\\begin{matrix}100\\\\10\\end{matrix}\\right]$$"
     },
     "execution_count": 44,
     "metadata": {},
     "output_type": "execute_result"
    }
   ],
   "source": [
    "lamm = m.eigenvals()\n",
    "Latex(f\"$$ \\lambda_m = {sympy2tex(display_eigenvals(lamm))}$$\")"
   ],
   "metadata": {
    "collapsed": false
   }
  },
  {
   "cell_type": "markdown",
   "source": [
    "# Question 12"
   ],
   "metadata": {
    "collapsed": false
   }
  },
  {
   "cell_type": "code",
   "execution_count": 46,
   "outputs": [
    {
     "data": {
      "text/plain": "<IPython.core.display.Latex object>",
      "text/latex": "$$ \\lambda_M = \\left[\\begin{matrix}100\\\\10\\\\0\\\\0\\\\0\\end{matrix}\\right]$$"
     },
     "execution_count": 46,
     "metadata": {},
     "output_type": "execute_result"
    }
   ],
   "source": [
    "lamM = M.eigenvals()\n",
    "Latex(f\"$$ \\lambda_M = {sympy2tex(display_eigenvals(lamM))}$$\")"
   ],
   "metadata": {
    "collapsed": false
   }
  }
 ],
 "metadata": {
  "kernelspec": {
   "display_name": "Python 3 (ipykernel)",
   "language": "python",
   "name": "python3"
  },
  "language_info": {
   "codemirror_mode": {
    "name": "ipython",
    "version": 3
   },
   "file_extension": ".py",
   "mimetype": "text/x-python",
   "name": "python",
   "nbconvert_exporter": "python",
   "pygments_lexer": "ipython3",
   "version": "3.9.13"
  }
 },
 "nbformat": 4,
 "nbformat_minor": 1
}
